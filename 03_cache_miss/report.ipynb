{
 "cells": [
  {
   "cell_type": "markdown",
   "metadata": {},
   "source": [
    "## Отчет по лабораторной работе №3"
   ]
  },
  {
   "cell_type": "markdown",
   "metadata": {},
   "source": [
    "Параметры ноутбука исследовались с помощью программы CPU-Z.\n",
    "\n",
    "Скрины ниже показывают характеристики CPU и его кэша. Параметры остальных частей системы можно посмотреть в папке [cpu-z-screens](cpu-z-screens).\n",
    "\n",
    "![Рисунок 1](cpu-z-screens/Specs_02_CPU.png)\n",
    "![Рисунок 2](cpu-z-screens/Specs_01_Caches.png)"
   ]
  },
  {
   "cell_type": "markdown",
   "metadata": {},
   "source": [
    "Код для анализа количества промахов находится в файлах [Cache.h](Cache.h) и [main_analyzed.cpp](main_analyzed.cpp). Компиляция производится с помощью скрипта [compile.sh](compile.sh). Получаем программу cache_analyzed, которая на вход получает следующие аргументы:\n",
    "1. размер матрицы\n",
    "+  размер кэша в байтах\n",
    "+  ассоциативность кэша\n",
    "+  размер кэш линии в байтах\n",
    "+  стратегия вытеснения из кэша (0 - LRU, 1 - вытеснение произовльной линии)\n",
    "\n",
    "Тестирование производилось с помощью скрипта [run_tests.sh](run_tests.sh), получены следующие файлы с результатами:\n",
    "* cache\\_analyzer\\_lru\\_*.log - для результатов работы написанного анализатора кэша со стратегией вытеснения LRU\n",
    "* cache\\_analyzer\\_random\\_*.log - для результатов работы написанного анализатора кэша со стратегией вытеснения произвольной линии\n",
    "* valgrind_*.log - для результатов работы valgrind\n",
    "\n",
    "\n",
    "Исследования проводились для двух вариантов:\n",
    "1. использовались характеристики компьютера (размер кэш-линии - 6291456 = 6 Mb, ассоциативность - 12, кэш-линия - 64 байта)\n",
    "+  использовались кастомные характеристики (размер кэш-линии - 3145728 = 3 Mb, ассоциативность - 12, кэш-линия - 64 байта)\n",
    "\n",
    "Первый вариант соответствует результатам с постфиксом 6mb, второй - 3mb.\n",
    "\n",
    "Представим результаты на графиках."
   ]
  },
  {
   "cell_type": "code",
   "execution_count": null,
   "metadata": {
    "collapsed": true
   },
   "outputs": [],
   "source": [
    "%matplotlib inline\n",
    "import matplotlib.pyplot as pyplot\n",
    "\n",
    "def draw_results(postfix):\n",
    "    \n",
    "    tests = []\n",
    "    touches = [[], [], []]\n",
    "    misses = [[], [], []]\n",
    "    rates = [[], [], []]\n",
    "    \n",
    "    names = [\"cache_analyzer_lru_\", \"cache_analyzer_random_\"]\n",
    "    for i in xrange(0, 2):\n",
    "        with open(names[i] + postfix + \".log\") as f:\n",
    "            lines = f.readlines()\n",
    "            for line in lines:\n",
    "                if line.startswith(\"n = \") and i != 0:\n",
    "                    tests.append(int(line.split(\"=\")[1]))\n",
    "                elif line.startswith(\"Cache touches : \"):\n",
    "                    touches[i].append(int(line.split(\":\")[1]))\n",
    "                elif line.startswith(\"Cache misses : \"):\n",
    "                    misses[i].append(int(line.split(\":\")[1]))\n",
    "                elif line.startswith(\"Cache miss ratio : \"):\n",
    "                    rates[i].append(float(line.split(\":\")[1]) * 100)\n",
    "                    \n",
    "    with open(\"valgrind_\" + postfix + \".log\") as f:\n",
    "        lines = f.readlines()\n",
    "        for line in lines:\n",
    "            if \"D   refs:\" in line:\n",
    "                touches[2].append(int(line.split(\":\")[1].split(\"(\")[0].replace(\",\", \"\")))\n",
    "            elif \"LLd misses:\" in line:\n",
    "                misses[2].append(int(line.split(\":\")[1].split(\"(\")[0].replace(\",\", \"\")))\n",
    "            elif \"LLd miss rate:\" in line:\n",
    "                rates[2].append(float(line.split(\":\")[1].split(\"(\")[0].replace(\"%\", \"\")))\n",
    "           \n",
    "    def draw_plot(x_list, y_list, title, ylabel = \"count\"):\n",
    "        labels = [\"LRU\", \"Random\", \"Valgrind\"]\n",
    "        lsl = ['-.', ':', ':']\n",
    "        fig = pyplot.figure(figsize=(17,5), dpi=90)\n",
    "        fig.suptitle(title)\n",
    "        ax = fig.add_subplot(111)\n",
    "        for i in xrange(0, 3):\n",
    "            ax.plot(x_list, y_list[i], label = labels[i], ls=lsl[i], lw=3, marker='o', markersize=4)\n",
    "        ax.legend(loc='upper left')\n",
    "\n",
    "        pyplot.xticks([1024, 1040, 1050, 1100])\n",
    "        pyplot.xlabel('size')\n",
    "        pyplot.ylabel(ylabel)\n",
    "        pyplot.show()\n",
    "    \n",
    "    draw_plot(tests, touches, \"Total refs\")\n",
    "    draw_plot(tests, misses, \"Misses\")\n",
    "    draw_plot(tests, rates, \"Miss rate\", \"rate, %\")"
   ]
  }
 ],
 "metadata": {
  "anaconda-cloud": {},
  "kernelspec": {
   "display_name": "Python [Root]",
   "language": "python",
   "name": "Python [Root]"
  },
  "language_info": {
   "codemirror_mode": {
    "name": "ipython",
    "version": 2
   },
   "file_extension": ".py",
   "mimetype": "text/x-python",
   "name": "python",
   "nbconvert_exporter": "python",
   "pygments_lexer": "ipython2",
   "version": "2.7.12"
  }
 },
 "nbformat": 4,
 "nbformat_minor": 0
}
