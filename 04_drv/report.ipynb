{
 "cells": [
  {
   "cell_type": "markdown",
   "metadata": {},
   "source": [
    "## Отчет по лабораторной работе C1123"
   ]
  },
  {
   "cell_type": "markdown",
   "metadata": {},
   "source": [
    "Для генерации написал скрипт на Python. \n",
    "1. prefixsumgenerator - генератор, использующий префиксные суммы (как параметр можно передавать флаг использовать ли бинарный поиск)\n",
    "+ rectfillgenerator - генератор, реализующий метод заполнения прямоугольника"
   ]
  },
  {
   "cell_type": "code",
   "execution_count": 5,
   "metadata": {
    "collapsed": true
   },
   "outputs": [],
   "source": [
    "import numpy as np\n",
    "import random as rnd\n",
    "import bisect as bsct\n",
    "import itertools\n",
    "import time\n",
    "\n",
    "class prefixsumgenerator():\n",
    "\n",
    "    def __init__(self, distr, usebinsearch = False):\n",
    "        self.distr = distr\n",
    "        self.size = len(distr)\n",
    "        self.usebinsearch = usebinsearch\n",
    "\n",
    "        self.cumsum = np.cumsum(distr)\n",
    "        pass\n",
    "\n",
    "    def getsize(self):\n",
    "        return self.size\n",
    "\n",
    "    def gennext(self):\n",
    "\n",
    "        brv = rnd.random()\n",
    "        result = -1\n",
    "\n",
    "        if self.usebinsearch:\n",
    "            result = bsct.bisect_left(self.cumsum, brv) + 1\n",
    "        else:\n",
    "            for i in xrange(0, self.size):\n",
    "                if brv < self.cumsum[i]:\n",
    "                    result = i + 1\n",
    "                    break\n",
    "        return result\n",
    "\n",
    "class rectfillgenerator():\n",
    "\n",
    "    def __init__(self, distr):\n",
    "        self.distr = distr\n",
    "        self.size = len(distr)\n",
    "        self.rects = list()\n",
    "\n",
    "        self.onedivn = 1. / self.size\n",
    "\n",
    "        i = 0\n",
    "        distrsortnum = list(sorted(itertools.izip(distr, xrange(1, self.size + 1))))\n",
    "\n",
    "        while len(distrsortnum) > 0:\n",
    "\n",
    "            p1 = distrsortnum.pop(0)\n",
    "            if len(distrsortnum) > 0:\n",
    "                pn = distrsortnum.pop()\n",
    "\n",
    "                pnnew = (pn[0] - (self.onedivn - p1[0]), pn[1])\n",
    "\n",
    "                bsct.insort_left(distrsortnum, pnnew)\n",
    "\n",
    "                self.rects.append((p1[0], p1[1], pn[1]))\n",
    "            else:\n",
    "                self.rects.append((self.onedivn, p1[1], p1[1]))\n",
    "\n",
    "        pass\n",
    "\n",
    "    def getsize(self):\n",
    "        return self.size\n",
    "\n",
    "    def gennext(self):\n",
    "\n",
    "        brv1 = rnd.randint(0, self.size - 1)\n",
    "        brv2 = rnd.uniform(0, self.onedivn)\n",
    "\n",
    "        result = -1\n",
    "\n",
    "        if brv2 <= self.rects[brv1][0]:\n",
    "            result = self.rects[brv1][1]\n",
    "        else:\n",
    "            result = self.rects[brv1][2]\n",
    "\n",
    "        return result\n",
    "\n",
    "def processgenerator(generator, count):\n",
    "    testdistr = [0] * generator.getsize()\n",
    "    tstart = time.clock()\n",
    "    for i in xrange(count):\n",
    "        testdistr[generator.gennext() - 1] += 1\n",
    "    timing = time.clock() - tstart\n",
    "\n",
    "    return testdistr, timing"
   ]
  },
  {
   "cell_type": "code",
   "execution_count": 4,
   "metadata": {
    "collapsed": true
   },
   "outputs": [],
   "source": []
  }
 ],
 "metadata": {
  "kernelspec": {
   "display_name": "Python [Root]",
   "language": "python",
   "name": "Python [Root]"
  },
  "language_info": {
   "codemirror_mode": {
    "name": "ipython",
    "version": 2
   },
   "file_extension": ".py",
   "mimetype": "text/x-python",
   "name": "python",
   "nbconvert_exporter": "python",
   "pygments_lexer": "ipython2",
   "version": "2.7.12"
  }
 },
 "nbformat": 4,
 "nbformat_minor": 0
}
