{
 "cells": [
  {
   "cell_type": "markdown",
   "metadata": {},
   "source": [
    "## Отчет по лабораторной работе C1123"
   ]
  },
  {
   "cell_type": "markdown",
   "metadata": {},
   "source": [
    "Для генерации написал скрипт на Python. Генераторы в качестве параметра принимают распределение pi:\n",
    "1. prefixsumgenerator - генератор, использующий префиксные суммы (как параметр можно передавать флаг использовать ли бинарный поиск)\n",
    "+ rectfillgenerator - генератор, реализующий метод с заполнением прямоугольника\n",
    "\n",
    "Функция processgenerator используется для тестирования (подсчитывает распределение и время работы)"
   ]
  },
  {
   "cell_type": "code",
   "execution_count": null,
   "metadata": {
    "collapsed": true
   },
   "outputs": [],
   "source": [
    "import numpy as np\n",
    "import random as rnd\n",
    "import bisect as bsct\n",
    "import itertools\n",
    "import time\n",
    "import math\n",
    "\n",
    "class prefixsumgenerator():\n",
    "\n",
    "    def __init__(self, distr, usebinsearch = False):\n",
    "        self.distr = distr\n",
    "        self.size = len(distr)\n",
    "        self.usebinsearch = usebinsearch\n",
    "\n",
    "        self.cumsum = np.cumsum(distr)\n",
    "        pass\n",
    "\n",
    "    def getsize(self):\n",
    "        return self.size\n",
    "\n",
    "    def gennext(self):\n",
    "\n",
    "        brv = rnd.random()\n",
    "        result = -1\n",
    "\n",
    "        if self.usebinsearch:\n",
    "            result = bsct.bisect_left(self.cumsum, brv) + 1\n",
    "        else:\n",
    "            for i in xrange(0, self.size):\n",
    "                if brv < self.cumsum[i]:\n",
    "                    result = i + 1\n",
    "                    break\n",
    "        return result\n",
    "\n",
    "class rectfillgenerator():\n",
    "\n",
    "    def __init__(self, distr):\n",
    "        self.distr = distr\n",
    "        self.size = len(distr)\n",
    "        self.rects = list()\n",
    "\n",
    "        self.onedivn = 1. / self.size\n",
    "\n",
    "        i = 0\n",
    "        distrsortnum = list(sorted(itertools.izip(distr, xrange(1, self.size + 1))))\n",
    "\n",
    "        while len(distrsortnum) > 0:\n",
    "\n",
    "            p1 = distrsortnum.pop(0)\n",
    "            if len(distrsortnum) > 0:\n",
    "                pn = distrsortnum.pop()\n",
    "\n",
    "                pnnew = (pn[0] - (self.onedivn - p1[0]), pn[1])\n",
    "\n",
    "                bsct.insort_left(distrsortnum, pnnew)\n",
    "\n",
    "                self.rects.append((p1[0], p1[1], pn[1]))\n",
    "            else:\n",
    "                self.rects.append((self.onedivn, p1[1], p1[1]))\n",
    "\n",
    "        pass\n",
    "\n",
    "    def getsize(self):\n",
    "        return self.size\n",
    "\n",
    "    def gennext(self):\n",
    "\n",
    "        brv1 = rnd.randint(0, self.size - 1)\n",
    "        brv2 = rnd.uniform(0, self.onedivn)\n",
    "\n",
    "        result = -1\n",
    "\n",
    "        if brv2 <= self.rects[brv1][0]:\n",
    "            result = self.rects[brv1][1]\n",
    "        else:\n",
    "            result = self.rects[brv1][2]\n",
    "\n",
    "        return result\n",
    "\n",
    "def processgenerator(generator, count):\n",
    "    testdistr = list()\n",
    "    tstart = time.clock()\n",
    "    for i in xrange(count):\n",
    "        testdistr.append(generator.gennext())\n",
    "    timing = time.clock() - tstart\n",
    "\n",
    "    return testdistr, timing"
   ]
  },
  {
   "cell_type": "markdown",
   "metadata": {},
   "source": [
    "Для тестирования сгенерировал 4 распределения с количеством исходов равным 100, генерировать буду по 100 000 случайных величин."
   ]
  },
  {
   "cell_type": "code",
   "execution_count": null,
   "metadata": {
    "collapsed": false
   },
   "outputs": [],
   "source": [
    "N = 100\n",
    "M = 100000\n",
    "distrs = list()\n",
    "distrs.append(list(x for x in xrange(1, N + 1)))\n",
    "distrs.append(list(N + 1 - x for x in xrange(1, N + 1)))\n",
    "distrs.append(list(math.log(x) for x in xrange(1, N + 1)))\n",
    "distrs.append(list(abs(math.pi * math.sin(x) / 10.) for x in xrange(1, N + 1)))\n",
    "\n",
    "# normalization\n",
    "for i in xrange(len(distrs)):\n",
    "    dsum = sum(distrs[i])\n",
    "    norm = [x / (1.0 * dsum) for x in distrs[i]]\n",
    "    distrs[i] = norm"
   ]
  },
  {
   "cell_type": "code",
   "execution_count": null,
   "metadata": {
    "collapsed": false
   },
   "outputs": [],
   "source": [
    "results = [[], [], []]\n",
    "#for d in distrs:\n",
    "#    gen = prefixsumgenerator(d)\n",
    "#    results[0].append(processgenerator(gen, M))\n",
    "\n",
    "for d in distrs:\n",
    "    gen = prefixsumgenerator(d, True)\n",
    "    results[1].append(processgenerator(gen, M))\n",
    "                                               \n",
    "for d in distrs:\n",
    "    gen = rectfillgenerator(d)\n",
    "    results[2].append(processgenerator(gen, M))"
   ]
  },
  {
   "cell_type": "markdown",
   "metadata": {},
   "source": [
    "Ниже приведены полученные гистограммы."
   ]
  },
  {
   "cell_type": "code",
   "execution_count": null,
   "metadata": {
    "collapsed": false
   },
   "outputs": [],
   "source": [
    "%matplotlib inline\n",
    "import matplotlib.pyplot as pyplot\n",
    "\n",
    "def drawhistogram(title, result):\n",
    "    pyplot.title(title)\n",
    "    pyplot.hist(result, bins=50, alpha=0.75)\n",
    "    pyplot.xlabel(\"Value\")\n",
    "    pyplot.ylabel(\"Frequency\")\n",
    "\n",
    "    pyplot.grid(True)\n",
    "    \n",
    "    pyplot.show()\n",
    "\n",
    "names = [\"prefix sums (without binary search)\", \"prefix sums (with binary search)\", \"fill rectangle\"]\n",
    "for i in xrange(4):\n",
    "    for j in xrange(1, 3):\n",
    "        drawhistogram(\"Algorithm: {0}, time = {1:.3f}\".format(names[j], results[j][i][1]), results[j][i][0])"
   ]
  }
 ],
 "metadata": {
  "anaconda-cloud": {},
  "kernelspec": {
   "display_name": "Python [Root]",
   "language": "python",
   "name": "Python [Root]"
  },
  "language_info": {
   "codemirror_mode": {
    "name": "ipython",
    "version": 2
   },
   "file_extension": ".py",
   "mimetype": "text/x-python",
   "name": "python",
   "nbconvert_exporter": "python",
   "pygments_lexer": "ipython2",
   "version": "2.7.12"
  }
 },
 "nbformat": 4,
 "nbformat_minor": 0
}
