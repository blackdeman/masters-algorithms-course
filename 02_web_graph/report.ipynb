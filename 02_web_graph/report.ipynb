{
 "cells": [
  {
   "cell_type": "markdown",
   "metadata": {},
   "source": [
    "## Отчет по лабороторной работе №2"
   ]
  },
  {
   "cell_type": "markdown",
   "metadata": {},
   "source": [
    "### Задание 1: запуск graph500 на локальной машине"
   ]
  },
  {
   "cell_type": "markdown",
   "metadata": {},
   "source": [
    "Тесты выполнялись на машине со следующими характеристиками:\n",
    "* Intel Core i7 6700HQ (4 cores, 2.60 GHz, 6M cache)\n",
    "* 16 GB RAM\n",
    "* OS: Ubuntu 14.04\n",
    "\n",
    "Скачал тест с сайта http://www.graph500.org/ и собрал со включенным флагом omp. Дальше тестировал реализацию openmp для различных размеров матриц. Часть тестов находится в файле [graph500_omp_results.txt](graph500_omp_results.txt). Лучший полученный результат получился для scale = 20:"
   ]
  },
  {
   "cell_type": "markdown",
   "metadata": {},
   "source": [
    "<pre>\n",
    "min_TEPS: 0.00000000000000000e+00\n",
    "firstquartile_TEPS: 0.00000000000000000e+00\n",
    "median_TEPS: 1.31345518657892513e+09\n",
    "thirdquartile_TEPS: 1.54346423943803215e+09\n",
    "max_TEPS: 2.05866782797089076e+09\n",
    "harmonic_mean_TEPS: 2.74703677273188543e+09\n",
    "harmonic_stddev_TEPS: 3.22997755636200249e+08\n",
    "</pre>"
   ]
  },
  {
   "cell_type": "markdown",
   "metadata": {},
   "source": [
    "Результат = 2.74 GTEPS, что соответствует 144 месту в списке Graph500."
   ]
  },
  {
   "cell_type": "markdown",
   "metadata": {},
   "source": [
    "### Задание 2: запуск graph500 на кластер"
   ]
  },
  {
   "cell_type": "markdown",
   "metadata": {},
   "source": [
    "Кластер состоял из 4-ех машин:\n",
    "1. Graph500-1\n",
    "    * CPU: Intel Core i7 6700HQ (4 cores, 2.60 GHz, 6M cache)\n",
    "    * RAM: 16 GB RAM DDR4\n",
    "    * Storage: 500 GB SSD\n",
    "    * OS: Ubuntu 14.04\n",
    "+  Graph500-2\n",
    "    * CPU: Core i5-5300U (2 cores, 2.7 GHz, 3M cache)\n",
    "    * RAM: 8GB DDR3L\n",
    "    * Storage: 256 GB SSD\n",
    "    * OS: Ubuntu 16.04\n",
    "+  Graph500-3\n",
    "    * CPU: AMD Athlon II X2 (2 cores, 2.1GHz, 2M cache)\n",
    "    * RAM: 2 GB RAM DDR3L\n",
    "    * Storage: 500 GB HDD\n",
    "    * OS: Ubuntu 16.04\n",
    "+  Graph500-4\n",
    "    * CPU: Intel Core i5 3210M (4 cores, 2.50GHz, 3M cache)\n",
    "    * RAM: 8 GB DDR3\n",
    "    * Storage: 500 GB HDD\n",
    "    * OS: Ubuntu 14.04"
   ]
  },
  {
   "cell_type": "markdown",
   "metadata": {},
   "source": [
    "Для каждой из машин был собрал из исходников и установлен mpich версии 3.2. Далее, скачан тест с сайта http://www.graph500.org/ и собран с включением флага mpi. Все машины были объединены в локальную сеть через маршрутизатор TP-LINK, на каждой был создан пользователь graph500 и для каждой пары машин было настроено ssh соединение.\n",
    "\n",
    "Запуск производился с помощью команды (пример для 4-х машин):"
   ]
  },
  {
   "cell_type": "markdown",
   "metadata": {},
   "source": [
    "<pre>\n",
    "mpirun -n 4 -f hostfile graph500/mpi/graph500_mpi_simple 12 16\n",
    "</pre>"
   ]
  },
  {
   "cell_type": "markdown",
   "metadata": {},
   "source": [
    "Причем, сначала для одной машины, потом для двух, потом для трех и для четырех. Тесты проводились для scale = 12 и подробный лог лежит в файле [graph500_mpi_cluster_results.txt](graph500_mpi_cluster_results.txt)\n",
    "\n",
    "Пример лога для одной машины:"
   ]
  },
  {
   "cell_type": "markdown",
   "metadata": {},
   "source": [
    "<pre>\n",
    "min_TEPS:                       1.9412e+07\n",
    "firstquartile_TEPS:             2.97869e+07\n",
    "median_TEPS:                    2.98824e+07\n",
    "thirdquartile_TEPS:             2.99492e+07\n",
    "max_TEPS:                       3.06061e+07\n",
    "harmonic_mean_TEPS:             2.9231e+07\n",
    "harmonic_stddev_TEPS:           282672\n",
    "</pre>"
   ]
  },
  {
   "cell_type": "markdown",
   "metadata": {},
   "source": [
    "Результат для одной машины = 0.027, что соответствует 210 месту в рейтинге Graph500. Данный результат можно объяснить тем, что данный код не оптимизирован под запуск на одной машине, тем более в один поток.\n",
    "\n",
    "Пример лога для четырех машин:"
   ]
  },
  {
   "cell_type": "markdown",
   "metadata": {},
   "source": [
    "<pre>\n",
    "min_TEPS:                       685592\n",
    "firstquartile_TEPS:             2.00253e+06\n",
    "median_TEPS:                    2.46504e+06\n",
    "thirdquartile_TEPS:             3.1085e+06\n",
    "max_TEPS:                       6.08788e+06\n",
    "harmonic_mean_TEPS:             2.3268e+06\n",
    "harmonic_stddev_TEPS:           121596\n",
    "</pre>"
   ]
  },
  {
   "cell_type": "markdown",
   "metadata": {},
   "source": [
    "Результат для четырех = 0.002 GTEPS, что соответствует последнему месту в рейтинге Graph500. Данный результат можно объяснить накладными расходами, возникающими из-за передачи по сети, нешироким каналом соединения, возможно, сильными различиями характеристик машин."
   ]
  },
  {
   "cell_type": "markdown",
   "metadata": {},
   "source": [
    "### Задание 3: Исследование графов Кронекера"
   ]
  },
  {
   "cell_type": "markdown",
   "metadata": {},
   "source": [
    "Сначала, с помощью модуля (generator_test_seq), отвечающего за генерацию графов в тесте graph500 было сгенерировано 2000 графов с параметром scale = 12, причем в качестве сидов для генерации использовались сиды, сгенерированные приложением [seed-generator.cpp](seed-generator.cpp) (было удобно иметь набор, по которому всегда генерировались бы одни и те же графы). Каждый из графов сохранялся в отдельном файле как список ребер.\n",
    "\n",
    "Далее, графы обрабатывались модулем собранным из [blocked-fw-cuda.cu](blocked-fw-cuda.cu) с помощью скрипта [compile_cuda.bat](compile_cuda.bat). Запуск модуля для каждого графа производилась скриптом [run_floyd_warshall.bat](run_floyd_warshall.bat).\n",
    "\n",
    "Обработка включала в себя:\n",
    "1. Чтение входного файла и сохранение в памяти в виде матрицы смежности\n",
    "+  Запуск алгоритма Флойда-Уоршелла, реализованного на GPU для поиска расстояний между любыми двумя парами вершин в графе\n",
    "+  Рассчет среднего расстояния между вершинами в графе, его диаметра, оценка связности\n",
    "+  Выделение компонент связности, подсет их количество, определение размера большей из них\n",
    "\n",
    "Все результаты складывались в файл [graphs_count_2000_scale_12_results.txt](graphs_count_2000_scale_12_results.txt)\n",
    "\n",
    "Скрипт далее рассчитывает средние значения для каждой из характеристик."
   ]
  },
  {
   "cell_type": "code",
   "execution_count": 1,
   "metadata": {
    "collapsed": false
   },
   "outputs": [
    {
     "name": "stdout",
     "output_type": "stream",
     "text": [
      "Средние значения для 2000 графов:\n",
      "\tДиаметр : 5.872\n",
      "\tСреднее расстояние между вершинами : 2.6482402\n",
      "\tВероятность связности : 0.0\n",
      "\tКоличество компонент связности : 751.6405\n",
      "\tРазмер наибольшей компоненты связности : 3344.7655\n"
     ]
    }
   ],
   "source": [
    "import math\n",
    "\n",
    "with open(\"graphs_count_2000_scale_12_results.txt\") as f:\n",
    "    diameter = 0\n",
    "    avg_dist = 0.0\n",
    "    conn = 0\n",
    "    comp_count = 0\n",
    "    max_comp_size = 0\n",
    "    for line in f:\n",
    "        parts = line.split(\":\")\n",
    "        if (parts[0].startswith(\"Diameter\")):\n",
    "            diameter += int(parts[1])\n",
    "        elif (parts[0].startswith(\"Average distance\")):\n",
    "            avg_dist += float(parts[1])\n",
    "        elif (parts[0].startswith(\"Connected\")):\n",
    "            conn += int(parts[1])\n",
    "        elif (parts[0].startswith(\"Connectivity components count\")):\n",
    "            comp_count += int(parts[1])\n",
    "        elif (parts[0].startswith(\"Max component size\")):\n",
    "            max_comp_size += int(parts[1])\n",
    "            \n",
    "    print \"Средние значения для 2000 графов:\"\n",
    "    print \"\\tДиаметр :\", diameter / float(2000)\n",
    "    print \"\\tСреднее расстояние между вершинами :\", avg_dist / float(2000)\n",
    "    print \"\\tВероятность связности :\", conn / float(2000)\n",
    "    print \"\\tКоличество компонент связности :\", comp_count / float(2000)\n",
    "    print \"\\tРазмер наибольшей компоненты связности :\", max_comp_size / float(2000)"
   ]
  },
  {
   "cell_type": "markdown",
   "metadata": {},
   "source": [
    "Можно заметить несколько любопытных закономерностей:\n",
    "1. Диаметр графов получился в районе 6, а среднее расстояние между вершинами невысоко, что подтверждает теорию рукопожатий для данной модели.\n",
    "+  Ни один из сгенерированных графов не оказался связным, что в принципе понятно, особенно для небольших графов (я исследовал графы 2^12)\n",
    "+  Исходя из параметров, касающихся компонент связности, можно говорить о том, что в среднем мы имеем одну большую компоненту связности, а также много изолированных вершин (это будет визуально подтверждено на графиках распределения)"
   ]
  },
  {
   "cell_type": "markdown",
   "metadata": {},
   "source": [
    "Для исследования распределения степеней вершин был написан модуль [graph-distribution-analyzer.cpp](graph-distribution-analyzer.cpp), который для каждого входного графа считает распределение, а также считает среднее среди всех графов. Результат хранится в файле [graphs_count_2000_scale_12_average_distribution.txt](graphs_count_2000_scale_12_average_distribution.txt).\n",
    "\n",
    "Построим распределение на графике:"
   ]
  },
  {
   "cell_type": "code",
   "execution_count": 2,
   "metadata": {
    "collapsed": false
   },
   "outputs": [],
   "source": [
    "%matplotlib inline\n",
    "import matplotlib.pyplot as pyplot\n",
    "\n",
    "def draw_distrib(filename, xmax, ymax):\n",
    "    with open(filename) as f:\n",
    "        lines = f.readlines()\n",
    "    distrib = [[int(line.split(\" \")[0]), float(''.join(line.split(\" \")[1][:-1]))] for line in lines[1:]]\n",
    "    fig = pyplot.figure(figsize=(17,5), dpi=90)\n",
    "    #fig.suptitle(title , fontsize = 20)\n",
    "    pyplot.plot([_[0] for _ in distrib], [_[1] for _ in distrib])\n",
    "    #pyplot.plot(xrange(1, xmax), [c / d^3 for d in xrange(1, xmax)])\n",
    "    pyplot.xlim([0, xmax])\n",
    "    pyplot.ylim([0, ymax])\n",
    "    pyplot.xticks(range(0, xmax + 10, (xmax + 10) / 25))\n",
    "    pyplot.yticks(range(0, ymax + 10, (ymax + 10) / 9))\n",
    "    pyplot.xlabel(\"Vertex degree\")\n",
    "    pyplot.ylabel(\"Count\")\n",
    "    pyplot.show()"
   ]
  },
  {
   "cell_type": "code",
   "execution_count": 3,
   "metadata": {
    "collapsed": false
   },
   "outputs": [
    {
     "data": {
      "image/png": "[encoded data removed]",
      "text/plain": [
       "<matplotlib.figure.Figure at 0x3d2fd30>"
      ]
     },
     "metadata": {},
     "output_type": "display_data"
    }
   ],
   "source": [
    "draw_distrib('graphs_count_2000_scale_12_average_distribution.txt', 200, 750)"
   ]
  },
  {
   "cell_type": "markdown",
   "metadata": {},
   "source": [
    "Выводы по графику:\n",
    "* видно большое количество изолированных вершин, что соответствует средним параметрам рассчитанным ранее\n",
    "* есть некоторые скачки в некоторых точках, однако, в среднем можно говорить о степенном определении, что соответствует теории\n",
    "* если просмотреть на сами файлы распределений, то можно заметить, что вершин со степенями больше 200 крайне мало, однако они всегда есть (наибольшая степень вершины среди сгенерированных графов = 5136)"
   ]
  },
  {
   "cell_type": "markdown",
   "metadata": {},
   "source": [
    "В целом результаты соответствуют теории, описывающей модель Кронекера."
   ]
  },
  {
   "cell_type": "markdown",
   "metadata": {},
   "source": [
    "### Задание 4: Исследование графов Боллобаша-Риордана"
   ]
  },
  {
   "cell_type": "code",
   "execution_count": 4,
   "metadata": {
    "collapsed": false
   },
   "outputs": [
    {
     "data": {
      "image/png": "[encoded data removed]",
      "text/plain": [
       "<matplotlib.figure.Figure at 0x6df8320>"
      ]
     },
     "metadata": {},
     "output_type": "display_data"
    }
   ],
   "source": [
    "draw_distrib('bollobas-riordan-graph-distributions\\output_4096_12.txt.distribution', 300, 700)"
   ]
  },
  {
   "cell_type": "code",
   "execution_count": 5,
   "metadata": {
    "collapsed": false
   },
   "outputs": [
    {
     "data": {
      "image/png": "[encoded data removed]",
      "text/plain": [
       "<matplotlib.figure.Figure at 0x6df8e80>"
      ]
     },
     "metadata": {},
     "output_type": "display_data"
    }
   ],
   "source": [
    "draw_distrib('bollobas-riordan-graph-distributions\\output_5120_16.txt.distribution', 300, 700)"
   ]
  }
 ],
 "metadata": {
  "anaconda-cloud": {},
  "kernelspec": {
   "display_name": "Python [Root]",
   "language": "python",
   "name": "Python [Root]"
  },
  "language_info": {
   "codemirror_mode": {
    "name": "ipython",
    "version": 2
   },
   "file_extension": ".py",
   "mimetype": "text/x-python",
   "name": "python",
   "nbconvert_exporter": "python",
   "pygments_lexer": "ipython2",
   "version": "2.7.12"
  }
 },
 "nbformat": 4,
 "nbformat_minor": 0
}
